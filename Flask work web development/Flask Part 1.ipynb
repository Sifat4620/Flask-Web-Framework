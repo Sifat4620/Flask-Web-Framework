{
 "cells": [
  {
   "cell_type": "code",
   "execution_count": 1,
   "id": "67644c7e",
   "metadata": {},
   "outputs": [
    {
     "name": "stdout",
     "output_type": "stream",
     "text": [
      "Requirement already satisfied: flask in c:\\users\\mdsif\\anaconda3\\lib\\site-packages (1.1.2)\n",
      "Requirement already satisfied: Werkzeug>=0.15 in c:\\users\\mdsif\\anaconda3\\lib\\site-packages (from flask) (2.0.3)\n",
      "Requirement already satisfied: Jinja2>=2.10.1 in c:\\users\\mdsif\\anaconda3\\lib\\site-packages (from flask) (2.11.3)\n",
      "Requirement already satisfied: itsdangerous>=0.24 in c:\\users\\mdsif\\anaconda3\\lib\\site-packages (from flask) (2.0.1)\n",
      "Requirement already satisfied: click>=5.1 in c:\\users\\mdsif\\anaconda3\\lib\\site-packages (from flask) (8.0.4)\n",
      "Requirement already satisfied: colorama in c:\\users\\mdsif\\anaconda3\\lib\\site-packages (from click>=5.1->flask) (0.4.5)\n",
      "Requirement already satisfied: MarkupSafe>=0.23 in c:\\users\\mdsif\\anaconda3\\lib\\site-packages (from Jinja2>=2.10.1->flask) (2.0.1)\n"
     ]
    },
    {
     "name": "stderr",
     "output_type": "stream",
     "text": [
      "\n",
      "[notice] A new release of pip is available: 23.2.1 -> 23.3.1\n",
      "[notice] To update, run: python.exe -m pip install --upgrade pip\n"
     ]
    }
   ],
   "source": [
    "!pip install flask"
   ]
  },
  {
   "cell_type": "markdown",
   "id": "6dcee318",
   "metadata": {},
   "source": [
    "# Get started"
   ]
  },
  {
   "cell_type": "markdown",
   "id": "33c3677a",
   "metadata": {},
   "source": [
    "1. By default methods = GET \n",
    "2. @app.route('/....') for new header\n",
    "3. retur < h2 >...........< /h2 >\n",
    "4. varible passing in  route \n",
    "5. GET and POST "
   ]
  },
  {
   "cell_type": "code",
   "execution_count": null,
   "id": "9e0990b2",
   "metadata": {},
   "outputs": [
    {
     "name": "stdout",
     "output_type": "stream",
     "text": [
      " * Serving Flask app \"__main__\" (lazy loading)\n",
      " * Environment: production\n",
      "\u001b[31m   WARNING: This is a development server. Do not use it in a production deployment.\u001b[0m\n",
      "\u001b[2m   Use a production WSGI server instead.\u001b[0m\n",
      " * Debug mode: off\n"
     ]
    },
    {
     "name": "stderr",
     "output_type": "stream",
     "text": [
      " * Running on http://127.0.0.1:5000/ (Press CTRL+C to quit)\n",
      "127.0.0.1 - - [29/Oct/2023 19:22:56] \"GET / HTTP/1.1\" 200 -\n",
      "127.0.0.1 - - [29/Oct/2023 19:23:02] \"GET /form HTTP/1.1\" 200 -\n",
      "127.0.0.1 - - [29/Oct/2023 19:23:23] \"POST /form HTTP/1.1\" 200 -\n"
     ]
    }
   ],
   "source": [
    "from flask import Flask,render_template,request\n",
    "app = Flask(__name__)\n",
    "\n",
    "### GET method \n",
    "@app.route('/',methods=['GET'])\n",
    "def hello_world():\n",
    "    return '<h2>Hello welcome to flask documentation!</h2>'\n",
    "\n",
    "\n",
    "@app.route('/new_header',methods=['GET'])\n",
    "def new_header():\n",
    "    return 'Welcome to new header file!'\n",
    "\n",
    "\n",
    "##### variable rules \n",
    "@app.route('/success/<score>')\n",
    "def success(score):\n",
    "    return 'Your score is : '+score\n",
    "\n",
    "### GET and POST \n",
    "@app.route('/form',methods=['GET','POST'])\n",
    "def calculate(): \n",
    "    if request.method=='GET':\n",
    "        return render_template('form.html')\n",
    "       \n",
    "    else: \n",
    "        name=str(request.form['name'])\n",
    "        math=float(request.form['math'])\n",
    "        ict=float(request.form['ict'])\n",
    "        eng=float(request.form['eng'])\n",
    "        \n",
    "        avg_marks=(math+ict+eng)/3\n",
    "        \n",
    "    return render_template('form.html',name=name,score=avg_marks)\n",
    "\n",
    "if __name__ =='__main__': \n",
    "         app.run()"
   ]
  },
  {
   "cell_type": "code",
   "execution_count": null,
   "id": "8697e8cd",
   "metadata": {},
   "outputs": [],
   "source": []
  }
 ],
 "metadata": {
  "kernelspec": {
   "display_name": "Python 3 (ipykernel)",
   "language": "python",
   "name": "python3"
  },
  "language_info": {
   "codemirror_mode": {
    "name": "ipython",
    "version": 3
   },
   "file_extension": ".py",
   "mimetype": "text/x-python",
   "name": "python",
   "nbconvert_exporter": "python",
   "pygments_lexer": "ipython3",
   "version": "3.9.13"
  }
 },
 "nbformat": 4,
 "nbformat_minor": 5
}
